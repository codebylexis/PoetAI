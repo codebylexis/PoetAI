{
  "nbformat": 4,
  "nbformat_minor": 0,
  "metadata": {
    "colab": {
      "name": "Poem_Writing_AI.ipynb",
      "provenance": [],
      "collapsed_sections": []
    },
    "kernelspec": {
      "name": "python3",
      "display_name": "Python 3"
    },
    "language_info": {
      "name": "python"
    },
    "accelerator": "GPU"
  },
  "cells": [
    {
      "cell_type": "markdown",
      "metadata": {
        "id": "yn68mKq082We"
      },
      "source": [
        "## Downloading The Dataset"
      ]
    },
    {
      "cell_type": "code",
      "metadata": {
        "id": "bwPXFtgMKRiC"
      },
      "source": [
        "!pip install -U -q kaggle\n",
        "!mkdir -p ~/.kaggle"
      ],
      "execution_count": 1,
      "outputs": []
    },
    {
      "cell_type": "code",
      "metadata": {
        "colab": {
          "resources": {
            "http://localhost:8080/nbextensions/google.colab/files.js": {
              "data": "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",
              "ok": true,
              "headers": [
                [
                  "content-type",
                  "application/javascript"
                ]
              ],
              "status": 200,
              "status_text": ""
            }
          },
          "base_uri": "https://localhost:8080/",
          "height": 90
        },
        "id": "m2EMe16CKTiS",
        "outputId": "bc4f60f5-214d-4745-a659-9711bcd90614"
      },
      "source": [
        "from google.colab import files\n",
        "files.upload()"
      ],
      "execution_count": 2,
      "outputs": [
        {
          "output_type": "display_data",
          "data": {
            "text/html": [
              "\n",
              "     <input type=\"file\" id=\"files-b08f0c04-ce5e-4e88-823a-3a4c8be97bb0\" name=\"files[]\" multiple disabled\n",
              "        style=\"border:none\" />\n",
              "     <output id=\"result-b08f0c04-ce5e-4e88-823a-3a4c8be97bb0\">\n",
              "      Upload widget is only available when the cell has been executed in the\n",
              "      current browser session. Please rerun this cell to enable.\n",
              "      </output>\n",
              "      <script src=\"/nbextensions/google.colab/files.js\"></script> "
            ],
            "text/plain": [
              "<IPython.core.display.HTML object>"
            ]
          },
          "metadata": {
            "tags": []
          }
        },
        {
          "output_type": "stream",
          "text": [
            "Saving kaggle.json to kaggle.json\n"
          ],
          "name": "stdout"
        },
        {
          "output_type": "execute_result",
          "data": {
            "text/plain": [
              "{'kaggle.json': b'{\"username\":\"navinbondade23\",\"key\":\"1e8e85d548f349b67f2e015da44880bd\"}'}"
            ]
          },
          "metadata": {
            "tags": []
          },
          "execution_count": 2
        }
      ]
    },
    {
      "cell_type": "code",
      "metadata": {
        "colab": {
          "base_uri": "https://localhost:8080/"
        },
        "id": "s7GWKfaaKXaZ",
        "outputId": "4b2434ed-9e34-4cf5-ec50-56117a9f3487"
      },
      "source": [
        "! cp kaggle.json ~/.kaggle/\n",
        "! chmod 600 ~/.kaggle/kaggle.json\n",
        "! kaggle datasets download -d tgdivy/poetry-foundation-poems"
      ],
      "execution_count": 3,
      "outputs": [
        {
          "output_type": "stream",
          "text": [
            "Downloading poetry-foundation-poems.zip to /content\n",
            "\r  0% 0.00/8.88M [00:00<?, ?B/s]\r 56% 5.00M/8.88M [00:00<00:00, 28.0MB/s]\n",
            "\r100% 8.88M/8.88M [00:00<00:00, 35.3MB/s]\n"
          ],
          "name": "stdout"
        }
      ]
    },
    {
      "cell_type": "code",
      "metadata": {
        "colab": {
          "base_uri": "https://localhost:8080/"
        },
        "id": "2lNIOMbSJUDw",
        "outputId": "51fdf904-be9f-4940-f9fe-c25841d6486c"
      },
      "source": [
        "#unziping the file\n",
        "from zipfile import ZipFile\n",
        "file_name = '/content/poetry-foundation-poems.zip'\n",
        "\n",
        "with ZipFile(file_name, 'r') as zipextractor:\n",
        "  zipextractor.extractall()\n",
        "  print('Done')"
      ],
      "execution_count": 4,
      "outputs": [
        {
          "output_type": "stream",
          "text": [
            "Done\n"
          ],
          "name": "stdout"
        }
      ]
    },
    {
      "cell_type": "markdown",
      "metadata": {
        "id": "qAWcE7nX86cz"
      },
      "source": [
        "## Importing The Libraries"
      ]
    },
    {
      "cell_type": "code",
      "metadata": {
        "id": "-01-3y_6cqS6"
      },
      "source": [
        "import re\n",
        "import numpy as np\n",
        "import pandas as pd\n",
        "import seaborn as sns\n",
        "import matplotlib.pyplot as plt\n",
        "import tensorflow as tf\n",
        "from bs4 import BeautifulSoup\n",
        "import matplotlib.pyplot as plt\n",
        "from wordcloud import WordCloud\n",
        "from PIL import Image\n",
        "from sklearn.model_selection import train_test_split\n",
        "from spacy.lang.en.stop_words import STOP_WORDS as stopwords"
      ],
      "execution_count": 5,
      "outputs": []
    },
    {
      "cell_type": "code",
      "metadata": {
        "id": "YX_5uNS_QvGz"
      },
      "source": [
        "from tensorflow.keras.preprocessing.text import Tokenizer\n",
        "from tensorflow.keras.callbacks import EarlyStopping\n",
        "from tensorflow.keras.preprocessing.sequence import pad_sequences\n",
        "from tensorflow.keras.layers import Dense,Flatten,Embedding,Dropout, LSTM, Embedding, BatchNormalization\n",
        "from tensorflow.keras.layers import Conv1D, MaxPooling1D, GlobalMaxPooling1D \n",
        "from tensorflow.keras.utils import plot_model, to_categorical\n",
        "from tensorflow.keras.models import Sequential\n",
        "from tensorflow.keras.preprocessing.sequence import pad_sequences\n",
        "from tensorflow.keras.callbacks import ModelCheckpoint"
      ],
      "execution_count": 6,
      "outputs": []
    },
    {
      "cell_type": "markdown",
      "metadata": {
        "id": "acOiTa5-8-pR"
      },
      "source": [
        "## Reading The Dataset"
      ]
    },
    {
      "cell_type": "code",
      "metadata": {
        "colab": {
          "base_uri": "https://localhost:8080/",
          "height": 166
        },
        "id": "5reAcHKtKnLk",
        "outputId": "d218934d-3e01-422f-f289-f8a93bdcea76"
      },
      "source": [
        "data = pd.read_csv('/content/PoetryFoundationData.csv')\n",
        "data = data[:520]\n",
        "data.sample(4)"
      ],
      "execution_count": 7,
      "outputs": [
        {
          "output_type": "execute_result",
          "data": {
            "text/html": [
              "<div>\n",
              "<style scoped>\n",
              "    .dataframe tbody tr th:only-of-type {\n",
              "        vertical-align: middle;\n",
              "    }\n",
              "\n",
              "    .dataframe tbody tr th {\n",
              "        vertical-align: top;\n",
              "    }\n",
              "\n",
              "    .dataframe thead th {\n",
              "        text-align: right;\n",
              "    }\n",
              "</style>\n",
              "<table border=\"1\" class=\"dataframe\">\n",
              "  <thead>\n",
              "    <tr style=\"text-align: right;\">\n",
              "      <th></th>\n",
              "      <th>Unnamed: 0</th>\n",
              "      <th>Title</th>\n",
              "      <th>Poem</th>\n",
              "      <th>Poet</th>\n",
              "      <th>Tags</th>\n",
              "    </tr>\n",
              "  </thead>\n",
              "  <tbody>\n",
              "    <tr>\n",
              "      <th>70</th>\n",
              "      <td>70</td>\n",
              "      <td>\\r\\r\\n                    from Poems of the Th...</td>\n",
              "      <td>\\r\\r\\nOur lives no longer feel ground under th...</td>\n",
              "      <td>Osip Mandelstam</td>\n",
              "      <td>History &amp; Politics</td>\n",
              "    </tr>\n",
              "    <tr>\n",
              "      <th>199</th>\n",
              "      <td>14</td>\n",
              "      <td>\\r\\r\\n                    Lifting My Daughter\\...</td>\n",
              "      <td>\\r\\r\\nAs I leave for work she holds out her ar...</td>\n",
              "      <td>Joseph Hutchison</td>\n",
              "      <td>NaN</td>\n",
              "    </tr>\n",
              "    <tr>\n",
              "      <th>206</th>\n",
              "      <td>21</td>\n",
              "      <td>\\r\\r\\n                    Coquí\\r\\r\\n         ...</td>\n",
              "      <td>\\r\\r\\nOne tiny tree frog\\r\\r\\nwith big eyes\\r\\...</td>\n",
              "      <td>Carmen Bernier-Grand</td>\n",
              "      <td>Nature,Animals</td>\n",
              "    </tr>\n",
              "    <tr>\n",
              "      <th>354</th>\n",
              "      <td>169</td>\n",
              "      <td>\\r\\r\\n                    Thaw\\r\\r\\n          ...</td>\n",
              "      <td>\\r\\r\\nYou said I will pull you out of my body ...</td>\n",
              "      <td>TC Tolbert</td>\n",
              "      <td>Living,The Body,Love,Realistic &amp; Complicated,R...</td>\n",
              "    </tr>\n",
              "  </tbody>\n",
              "</table>\n",
              "</div>"
            ],
            "text/plain": [
              "     Unnamed: 0  ...                                               Tags\n",
              "70           70  ...                                 History & Politics\n",
              "199          14  ...                                                NaN\n",
              "206          21  ...                                     Nature,Animals\n",
              "354         169  ...  Living,The Body,Love,Realistic & Complicated,R...\n",
              "\n",
              "[4 rows x 5 columns]"
            ]
          },
          "metadata": {
            "tags": []
          },
          "execution_count": 7
        }
      ]
    },
    {
      "cell_type": "code",
      "metadata": {
        "colab": {
          "base_uri": "https://localhost:8080/",
          "height": 166
        },
        "id": "3OTRlVDHN290",
        "outputId": "3ac2c488-3409-466a-f6a9-7761da5bc9b3"
      },
      "source": [
        "poem_data = pd.DataFrame({'Poem':data['Poem'].values})\n",
        "poem_data.sample(4)"
      ],
      "execution_count": 8,
      "outputs": [
        {
          "output_type": "execute_result",
          "data": {
            "text/html": [
              "<div>\n",
              "<style scoped>\n",
              "    .dataframe tbody tr th:only-of-type {\n",
              "        vertical-align: middle;\n",
              "    }\n",
              "\n",
              "    .dataframe tbody tr th {\n",
              "        vertical-align: top;\n",
              "    }\n",
              "\n",
              "    .dataframe thead th {\n",
              "        text-align: right;\n",
              "    }\n",
              "</style>\n",
              "<table border=\"1\" class=\"dataframe\">\n",
              "  <thead>\n",
              "    <tr style=\"text-align: right;\">\n",
              "      <th></th>\n",
              "      <th>Poem</th>\n",
              "    </tr>\n",
              "  </thead>\n",
              "  <tbody>\n",
              "    <tr>\n",
              "      <th>213</th>\n",
              "      <td>\\r\\r\\nWe used to play, long before we bought r...</td>\n",
              "    </tr>\n",
              "    <tr>\n",
              "      <th>122</th>\n",
              "      <td>\\r\\r\\nWhitman thought he could live with anima...</td>\n",
              "    </tr>\n",
              "    <tr>\n",
              "      <th>68</th>\n",
              "      <td>\\r\\r\\nLet me be in your service\\r\\r\\nlike the ...</td>\n",
              "    </tr>\n",
              "    <tr>\n",
              "      <th>513</th>\n",
              "      <td>\\r\\r\\nI come from Inuit oil money,\\r\\r\\nFrom i...</td>\n",
              "    </tr>\n",
              "  </tbody>\n",
              "</table>\n",
              "</div>"
            ],
            "text/plain": [
              "                                                  Poem\n",
              "213  \\r\\r\\nWe used to play, long before we bought r...\n",
              "122  \\r\\r\\nWhitman thought he could live with anima...\n",
              "68   \\r\\r\\nLet me be in your service\\r\\r\\nlike the ...\n",
              "513  \\r\\r\\nI come from Inuit oil money,\\r\\r\\nFrom i..."
            ]
          },
          "metadata": {
            "tags": []
          },
          "execution_count": 8
        }
      ]
    },
    {
      "cell_type": "markdown",
      "metadata": {
        "id": "shyBqme-9EDB"
      },
      "source": [
        "## Removing Lines"
      ]
    },
    {
      "cell_type": "code",
      "metadata": {
        "id": "u8viMQY4OOEc"
      },
      "source": [
        "poem_data['Poem'] = poem_data['Poem'].apply(lambda x: x.splitlines()) \n",
        "poem_data['Poem'] = poem_data['Poem'].apply(lambda x: \" \".join(x)) "
      ],
      "execution_count": 9,
      "outputs": []
    },
    {
      "cell_type": "code",
      "metadata": {
        "colab": {
          "base_uri": "https://localhost:8080/",
          "height": 86
        },
        "id": "14p3BVL9OcGO",
        "outputId": "560d3e14-bbc4-4f2b-f081-72da8df615fe"
      },
      "source": [
        "poem_data['Poem'][0]"
      ],
      "execution_count": 10,
      "outputs": [
        {
          "output_type": "execute_result",
          "data": {
            "application/vnd.google.colaboratory.intrinsic+json": {
              "type": "string"
            },
            "text/plain": [
              "\"  Dog bone, stapler,  cribbage board, garlic press       because this window is loose—lacks  suction, lacks grip.  Bungee cord, bootstrap,  dog leash, leather belt       because this window had sash cords.  They frayed. They broke.  Feather duster, thatch of straw, empty  bottle of Elmer's glue       because this window is loud—its hinges clack  open, clack shut.  Stuffed bear, baby blanket,  single crib newel       because this window is split. It's dividing  in two.  Velvet moss, sagebrush,  willow branch, robin's wing       because this window, it's pane-less. It's only  a frame of air. \""
            ]
          },
          "metadata": {
            "tags": []
          },
          "execution_count": 10
        }
      ]
    },
    {
      "cell_type": "markdown",
      "metadata": {
        "id": "jJa7tO4h9G1-"
      },
      "source": [
        "## Cleaning The Text"
      ]
    },
    {
      "cell_type": "code",
      "metadata": {
        "id": "ySua8vrvQDYB",
        "colab": {
          "base_uri": "https://localhost:8080/"
        },
        "outputId": "e581dabe-f12f-4b63-90cb-23b0684ba76b"
      },
      "source": [
        "!pip -q install contractions\n",
        "import contractions\n",
        "import unicodedata"
      ],
      "execution_count": 11,
      "outputs": [
        {
          "output_type": "stream",
          "text": [
            "\u001b[K     |████████████████████████████████| 327kB 10.3MB/s \n",
            "\u001b[K     |████████████████████████████████| 286kB 23.6MB/s \n",
            "\u001b[?25h  Building wheel for pyahocorasick (setup.py) ... \u001b[?25l\u001b[?25hdone\n"
          ],
          "name": "stdout"
        }
      ]
    },
    {
      "cell_type": "code",
      "metadata": {
        "id": "r4moQxYZQG4U"
      },
      "source": [
        "def remove_accented(x):\n",
        "  x = unicodedata.normalize('NFKD', x).encode('ascii', 'ignore').decode('utf-8', 'ignore')\n",
        "  return x"
      ],
      "execution_count": 12,
      "outputs": []
    },
    {
      "cell_type": "code",
      "metadata": {
        "id": "-uh-l6FROhOc"
      },
      "source": [
        "def get_clean(X):\n",
        "    X = str(X).lower().replace('\\\\', ' ').replace('_', ' ').replace(':', '')\n",
        "    X = contractions.fix(X)\n",
        "    X = X.replace('#', \"\")\n",
        "    X = re.sub(r'(http|https|ftp|ssh)://([\\w_-]+(?:(?:\\.[\\w_-]+)+))([\\w.,@?^=%&:/~+#-]*[\\w@?^=%&/~+#-])?',\"\",  X)\n",
        "    X = re.sub(r'[^\\w\\d\\s]+','', X)\n",
        "    X = ' '.join(X.split())\n",
        "    X = BeautifulSoup(X, 'lxml').get_text().strip()\n",
        "    X = remove_accented(X)\n",
        "    return X"
      ],
      "execution_count": 13,
      "outputs": []
    },
    {
      "cell_type": "code",
      "metadata": {
        "id": "5njbZNubQZ-r",
        "colab": {
          "base_uri": "https://localhost:8080/",
          "height": 69
        },
        "outputId": "9b23db97-23b8-4513-a0c1-fc01d523ba49"
      },
      "source": [
        "poem_data['Poem'] = poem_data['Poem'].apply(lambda x: get_clean(x)) \n",
        "poem_data['Poem'][0]"
      ],
      "execution_count": 14,
      "outputs": [
        {
          "output_type": "execute_result",
          "data": {
            "application/vnd.google.colaboratory.intrinsic+json": {
              "type": "string"
            },
            "text/plain": [
              "'dog bone stapler cribbage board garlic press because this window is looselacks suction lacks grip bungee cord bootstrap dog leash leather belt because this window had sash cords they frayed they broke feather duster thatch of straw empty bottle of elmers glue because this window is loudits hinges clack open clack shut stuffed bear baby blanket single crib newel because this window is split it is dividing in two velvet moss sagebrush willow branch robins wing because this window it is paneless it is only a frame of air'"
            ]
          },
          "metadata": {
            "tags": []
          },
          "execution_count": 14
        }
      ]
    },
    {
      "cell_type": "markdown",
      "metadata": {
        "id": "6zwUCF3u-YIx"
      },
      "source": [
        "## Word Cloud Representation\n"
      ]
    },
    {
      "cell_type": "code",
      "metadata": {
        "id": "N7q9uHPHzQuB"
      },
      "source": [
        "plt.rcParams['figure.figsize'] = [4,4]\n",
        "plt.rcParams['figure.dpi'] = 120\n",
        "sns.set(style='darkgrid')"
      ],
      "execution_count": 15,
      "outputs": []
    },
    {
      "cell_type": "code",
      "metadata": {
        "colab": {
          "base_uri": "https://localhost:8080/",
          "height": 428
        },
        "id": "5PrkmsLkwrxG",
        "outputId": "c6b32a5b-36b1-4c69-eecd-4ec4804bae68"
      },
      "source": [
        "poems = str(poem_data['Poem'])\n",
        "word_cloud = WordCloud(width=450, height=500, max_font_size=120).generate(poems)\n",
        "plt.imshow(word_cloud)\n",
        "plt.title('Word Cloud Representation For Not Toxic Text')\n",
        "plt.axis('off')\n",
        "plt.show()"
      ],
      "execution_count": 16,
      "outputs": [
        {
          "output_type": "display_data",
          "data": {
            "image/png": "[encoded data removed]",
            "text/plain": [
              "<Figure size 480x480 with 1 Axes>"
            ]
          },
          "metadata": {
            "tags": []
          }
        }
      ]
    },
    {
      "cell_type": "markdown",
      "metadata": {
        "id": "eYOCO5wo-kZ2"
      },
      "source": [
        "## Converting Text Into Numerical Form"
      ]
    },
    {
      "cell_type": "code",
      "metadata": {
        "id": "RIYt95NVQsj4"
      },
      "source": [
        "token = Tokenizer()\n",
        "token.fit_on_texts(poem_data['Poem'])"
      ],
      "execution_count": 17,
      "outputs": []
    },
    {
      "cell_type": "code",
      "metadata": {
        "id": "7egjbD4FQ35Y"
      },
      "source": [
        "encoded_text = token.texts_to_sequences(poem_data['Poem'])"
      ],
      "execution_count": 18,
      "outputs": []
    },
    {
      "cell_type": "code",
      "metadata": {
        "id": "Sc_AmVpvRD8F",
        "colab": {
          "base_uri": "https://localhost:8080/"
        },
        "outputId": "b25dde9c-7335-4bac-fb3c-7a2fbef2d18f"
      },
      "source": [
        "vocab_size = len(token.word_counts) + 1\n",
        "print(f'Vocab Size: {vocab_size}')"
      ],
      "execution_count": 19,
      "outputs": [
        {
          "output_type": "stream",
          "text": [
            "Vocab Size: 15986\n"
          ],
          "name": "stdout"
        }
      ]
    },
    {
      "cell_type": "markdown",
      "metadata": {
        "id": "VRulkRZn-_aB"
      },
      "source": [
        "## Building The Data"
      ]
    },
    {
      "cell_type": "code",
      "metadata": {
        "id": "qwL6Ah_URG6B"
      },
      "source": [
        "datalist = []\n",
        "for d in encoded_text:\n",
        "  if len(d)>1:\n",
        "    for i in range(2, len(d)):\n",
        "      datalist.append(d[:i])"
      ],
      "execution_count": 20,
      "outputs": []
    },
    {
      "cell_type": "code",
      "metadata": {
        "id": "umz8R4dtRKDA"
      },
      "source": [
        "max_length = 5\n",
        "sequences = pad_sequences(datalist, maxlen=max_length, padding='pre')"
      ],
      "execution_count": 21,
      "outputs": []
    },
    {
      "cell_type": "code",
      "metadata": {
        "colab": {
          "base_uri": "https://localhost:8080/"
        },
        "id": "YVvHgV9rTAxx",
        "outputId": "43000561-4fea-439d-9ed6-675b98e40e17"
      },
      "source": [
        "seq_length = X.shape[1]\n",
        "print(f'Sequence Length: {seq_length}')"
      ],
      "execution_count": 24,
      "outputs": [
        {
          "output_type": "stream",
          "text": [
            "Sequence Length: 4\n"
          ],
          "name": "stdout"
        }
      ]
    },
    {
      "cell_type": "markdown",
      "metadata": {
        "id": "DJvi2X3I_CA-"
      },
      "source": [
        "## Dividing The Data"
      ]
    },
    {
      "cell_type": "code",
      "metadata": {
        "id": "NYCLw6x3RdkH"
      },
      "source": [
        "X = sequences[:, :-1]\n",
        "y = sequences[:, -1]"
      ],
      "execution_count": 22,
      "outputs": []
    },
    {
      "cell_type": "code",
      "metadata": {
        "id": "6GmfKxx5S_Lo"
      },
      "source": [
        "y = to_categorical(y, num_classes=vocab_size)"
      ],
      "execution_count": 23,
      "outputs": []
    },
    {
      "cell_type": "markdown",
      "metadata": {
        "id": "uqyOoqBU_JZA"
      },
      "source": [
        "## Building The Model"
      ]
    },
    {
      "cell_type": "code",
      "metadata": {
        "id": "xN4WUI2yVDJP"
      },
      "source": [
        "model = Sequential()\n",
        "model.add(Embedding(vocab_size, 50, input_length=seq_length))\n",
        "model.add(LSTM(100, return_sequences=True))\n",
        "model.add(LSTM(100))\n",
        "model.add(Dense(100, activation='relu'))\n",
        "model.add(BatchNormalization())\n",
        "model.add(Dense(vocab_size, activation='softmax'))"
      ],
      "execution_count": 25,
      "outputs": []
    },
    {
      "cell_type": "markdown",
      "metadata": {
        "id": "tYh3vmyd_ND5"
      },
      "source": [
        "## Understanding The Model"
      ]
    },
    {
      "cell_type": "code",
      "metadata": {
        "colab": {
          "base_uri": "https://localhost:8080/"
        },
        "id": "d672HQt_VIBd",
        "outputId": "8049c708-08b5-454d-914b-e4541e5ca41e"
      },
      "source": [
        "model.summary()"
      ],
      "execution_count": 26,
      "outputs": [
        {
          "output_type": "stream",
          "text": [
            "Model: \"sequential\"\n",
            "_________________________________________________________________\n",
            "Layer (type)                 Output Shape              Param #   \n",
            "=================================================================\n",
            "embedding (Embedding)        (None, 4, 50)             799300    \n",
            "_________________________________________________________________\n",
            "lstm (LSTM)                  (None, 4, 100)            60400     \n",
            "_________________________________________________________________\n",
            "lstm_1 (LSTM)                (None, 100)               80400     \n",
            "_________________________________________________________________\n",
            "dense (Dense)                (None, 100)               10100     \n",
            "_________________________________________________________________\n",
            "batch_normalization (BatchNo (None, 100)               400       \n",
            "_________________________________________________________________\n",
            "dense_1 (Dense)              (None, 15986)             1614586   \n",
            "=================================================================\n",
            "Total params: 2,565,186\n",
            "Trainable params: 2,564,986\n",
            "Non-trainable params: 200\n",
            "_________________________________________________________________\n"
          ],
          "name": "stdout"
        }
      ]
    },
    {
      "cell_type": "code",
      "metadata": {
        "colab": {
          "base_uri": "https://localhost:8080/",
          "height": 631
        },
        "id": "2WSRXzIFnmlu",
        "outputId": "7031d1e0-f7c1-4ef1-dca9-1b8d7a4435af"
      },
      "source": [
        "plot_model(model, show_shapes=True, show_layer_names=True, dpi=80)"
      ],
      "execution_count": 27,
      "outputs": [
        {
          "output_type": "execute_result",
          "data": {
            "image/png": "[encoded data removed]",
            "text/plain": [
              "<IPython.core.display.Image object>"
            ]
          },
          "metadata": {
            "tags": []
          },
          "execution_count": 27
        }
      ]
    },
    {
      "cell_type": "markdown",
      "metadata": {
        "id": "aNjxvzy9_c8X"
      },
      "source": [
        "## Compiling The Model"
      ]
    },
    {
      "cell_type": "code",
      "metadata": {
        "id": "ZLwyc5mYVJXZ"
      },
      "source": [
        "model.compile(loss='categorical_crossentropy', optimizer='adam', metrics=['accuracy'])"
      ],
      "execution_count": 28,
      "outputs": []
    },
    {
      "cell_type": "markdown",
      "metadata": {
        "id": "pt43lrdf_gt8"
      },
      "source": [
        "## Training The Model"
      ]
    },
    {
      "cell_type": "code",
      "metadata": {
        "colab": {
          "base_uri": "https://localhost:8080/"
        },
        "id": "8mKzzuf0VMIY",
        "outputId": "7a1ddfd7-6d71-4336-b77f-4ecc63c8448c"
      },
      "source": [
        "r = model.fit(X, y, batch_size=100, epochs=170)"
      ],
      "execution_count": 29,
      "outputs": [
        {
          "output_type": "stream",
          "text": [
            "Epoch 1/170\n",
            "1195/1195 [==============================] - 57s 20ms/step - loss: 7.7653 - accuracy: 0.0648\n",
            "Epoch 2/170\n",
            "1195/1195 [==============================] - 24s 20ms/step - loss: 6.4030 - accuracy: 0.1048\n",
            "Epoch 3/170\n",
            "1195/1195 [==============================] - 23s 19ms/step - loss: 5.9891 - accuracy: 0.1236\n",
            "Epoch 4/170\n",
            "1195/1195 [==============================] - 24s 20ms/step - loss: 5.5923 - accuracy: 0.1428\n",
            "Epoch 5/170\n",
            "1195/1195 [==============================] - 23s 19ms/step - loss: 5.1656 - accuracy: 0.1679\n",
            "Epoch 6/170\n",
            "1195/1195 [==============================] - 23s 19ms/step - loss: 4.7120 - accuracy: 0.1994\n",
            "Epoch 7/170\n",
            "1195/1195 [==============================] - 22s 19ms/step - loss: 4.2891 - accuracy: 0.2457\n",
            "Epoch 8/170\n",
            "1195/1195 [==============================] - 22s 19ms/step - loss: 3.8897 - accuracy: 0.2969\n",
            "Epoch 9/170\n",
            "1195/1195 [==============================] - 23s 19ms/step - loss: 3.5603 - accuracy: 0.3450\n",
            "Epoch 10/170\n",
            "1195/1195 [==============================] - 22s 19ms/step - loss: 3.2568 - accuracy: 0.3907\n",
            "Epoch 11/170\n",
            "1195/1195 [==============================] - 22s 19ms/step - loss: 3.0033 - accuracy: 0.4289\n",
            "Epoch 12/170\n",
            "1195/1195 [==============================] - 23s 19ms/step - loss: 2.8203 - accuracy: 0.4588\n",
            "Epoch 13/170\n",
            "1195/1195 [==============================] - 23s 19ms/step - loss: 2.6529 - accuracy: 0.4847\n",
            "Epoch 14/170\n",
            "1195/1195 [==============================] - 23s 19ms/step - loss: 2.5076 - accuracy: 0.5094\n",
            "Epoch 15/170\n",
            "1195/1195 [==============================] - 23s 19ms/step - loss: 2.3766 - accuracy: 0.5294\n",
            "Epoch 16/170\n",
            "1195/1195 [==============================] - 23s 19ms/step - loss: 2.2873 - accuracy: 0.5432\n",
            "Epoch 17/170\n",
            "1195/1195 [==============================] - 23s 19ms/step - loss: 2.1648 - accuracy: 0.5655\n",
            "Epoch 18/170\n",
            "1195/1195 [==============================] - 22s 18ms/step - loss: 2.0756 - accuracy: 0.5783\n",
            "Epoch 19/170\n",
            "1195/1195 [==============================] - 22s 19ms/step - loss: 2.0012 - accuracy: 0.5899\n",
            "Epoch 20/170\n",
            "1195/1195 [==============================] - 22s 19ms/step - loss: 1.9203 - accuracy: 0.6042\n",
            "Epoch 21/170\n",
            "1195/1195 [==============================] - 22s 19ms/step - loss: 1.8397 - accuracy: 0.6177\n",
            "Epoch 22/170\n",
            "1195/1195 [==============================] - 22s 19ms/step - loss: 1.7845 - accuracy: 0.6255\n",
            "Epoch 23/170\n",
            "1195/1195 [==============================] - 22s 19ms/step - loss: 1.7164 - accuracy: 0.6381\n",
            "Epoch 24/170\n",
            "1195/1195 [==============================] - 23s 19ms/step - loss: 1.6543 - accuracy: 0.6484\n",
            "Epoch 25/170\n",
            "1195/1195 [==============================] - 22s 18ms/step - loss: 1.6004 - accuracy: 0.6583\n",
            "Epoch 26/170\n",
            "1195/1195 [==============================] - 23s 19ms/step - loss: 1.5505 - accuracy: 0.6681\n",
            "Epoch 27/170\n",
            "1195/1195 [==============================] - 23s 19ms/step - loss: 1.5036 - accuracy: 0.6751\n",
            "Epoch 28/170\n",
            "1195/1195 [==============================] - 22s 18ms/step - loss: 1.4590 - accuracy: 0.6838\n",
            "Epoch 29/170\n",
            "1195/1195 [==============================] - 22s 19ms/step - loss: 1.4170 - accuracy: 0.6909\n",
            "Epoch 30/170\n",
            "1195/1195 [==============================] - 22s 19ms/step - loss: 1.3847 - accuracy: 0.6973\n",
            "Epoch 31/170\n",
            "1195/1195 [==============================] - 22s 19ms/step - loss: 1.3369 - accuracy: 0.7077\n",
            "Epoch 32/170\n",
            "1195/1195 [==============================] - 22s 18ms/step - loss: 1.3130 - accuracy: 0.7098\n",
            "Epoch 33/170\n",
            "1195/1195 [==============================] - 22s 18ms/step - loss: 1.2674 - accuracy: 0.7192\n",
            "Epoch 34/170\n",
            "1195/1195 [==============================] - 22s 18ms/step - loss: 1.2346 - accuracy: 0.7248\n",
            "Epoch 35/170\n",
            "1195/1195 [==============================] - 22s 18ms/step - loss: 1.2093 - accuracy: 0.7294\n",
            "Epoch 36/170\n",
            "1195/1195 [==============================] - 22s 18ms/step - loss: 1.1745 - accuracy: 0.7344\n",
            "Epoch 37/170\n",
            "1195/1195 [==============================] - 22s 18ms/step - loss: 1.1397 - accuracy: 0.7445\n",
            "Epoch 38/170\n",
            "1195/1195 [==============================] - 22s 18ms/step - loss: 1.1219 - accuracy: 0.7462\n",
            "Epoch 39/170\n",
            "1195/1195 [==============================] - 22s 19ms/step - loss: 1.0975 - accuracy: 0.7496\n",
            "Epoch 40/170\n",
            "1195/1195 [==============================] - 22s 19ms/step - loss: 1.0502 - accuracy: 0.7602\n",
            "Epoch 41/170\n",
            "1195/1195 [==============================] - 23s 19ms/step - loss: 1.0296 - accuracy: 0.7645\n",
            "Epoch 42/170\n",
            "1195/1195 [==============================] - 23s 19ms/step - loss: 1.0105 - accuracy: 0.7679\n",
            "Epoch 43/170\n",
            "1195/1195 [==============================] - 23s 19ms/step - loss: 0.9864 - accuracy: 0.7711\n",
            "Epoch 44/170\n",
            "1195/1195 [==============================] - 22s 19ms/step - loss: 0.9625 - accuracy: 0.7777\n",
            "Epoch 45/170\n",
            "1195/1195 [==============================] - 22s 19ms/step - loss: 0.9476 - accuracy: 0.7810\n",
            "Epoch 46/170\n",
            "1195/1195 [==============================] - 23s 19ms/step - loss: 0.9245 - accuracy: 0.7843\n",
            "Epoch 47/170\n",
            "1195/1195 [==============================] - 22s 19ms/step - loss: 0.9160 - accuracy: 0.7855\n",
            "Epoch 48/170\n",
            "1195/1195 [==============================] - 23s 19ms/step - loss: 0.8778 - accuracy: 0.7928\n",
            "Epoch 49/170\n",
            "1195/1195 [==============================] - 22s 19ms/step - loss: 0.8684 - accuracy: 0.7953\n",
            "Epoch 50/170\n",
            "1195/1195 [==============================] - 22s 19ms/step - loss: 0.8551 - accuracy: 0.7984\n",
            "Epoch 51/170\n",
            "1195/1195 [==============================] - 23s 19ms/step - loss: 0.8271 - accuracy: 0.8031\n",
            "Epoch 52/170\n",
            "1195/1195 [==============================] - 23s 19ms/step - loss: 0.8255 - accuracy: 0.8051\n",
            "Epoch 53/170\n",
            "1195/1195 [==============================] - 22s 19ms/step - loss: 0.7857 - accuracy: 0.8132\n",
            "Epoch 54/170\n",
            "1195/1195 [==============================] - 22s 19ms/step - loss: 0.7754 - accuracy: 0.8126\n",
            "Epoch 55/170\n",
            "1195/1195 [==============================] - 22s 19ms/step - loss: 0.7570 - accuracy: 0.8178\n",
            "Epoch 56/170\n",
            "1195/1195 [==============================] - 22s 19ms/step - loss: 0.7429 - accuracy: 0.8206\n",
            "Epoch 57/170\n",
            "1195/1195 [==============================] - 23s 19ms/step - loss: 0.7302 - accuracy: 0.8231\n",
            "Epoch 58/170\n",
            "1195/1195 [==============================] - 22s 19ms/step - loss: 0.7092 - accuracy: 0.8275\n",
            "Epoch 59/170\n",
            "1195/1195 [==============================] - 22s 19ms/step - loss: 0.7033 - accuracy: 0.8278\n",
            "Epoch 60/170\n",
            "1195/1195 [==============================] - 22s 19ms/step - loss: 0.6794 - accuracy: 0.8330\n",
            "Epoch 61/170\n",
            "1195/1195 [==============================] - 24s 20ms/step - loss: 0.6707 - accuracy: 0.8351\n",
            "Epoch 62/170\n",
            "1195/1195 [==============================] - 22s 19ms/step - loss: 0.6574 - accuracy: 0.8390\n",
            "Epoch 63/170\n",
            "1195/1195 [==============================] - 23s 19ms/step - loss: 0.6450 - accuracy: 0.8397\n",
            "Epoch 64/170\n",
            "1195/1195 [==============================] - 22s 19ms/step - loss: 0.6348 - accuracy: 0.8436\n",
            "Epoch 65/170\n",
            "1195/1195 [==============================] - 22s 19ms/step - loss: 0.6154 - accuracy: 0.8479\n",
            "Epoch 66/170\n",
            "1195/1195 [==============================] - 22s 19ms/step - loss: 0.6197 - accuracy: 0.8465\n",
            "Epoch 67/170\n",
            "1195/1195 [==============================] - 22s 18ms/step - loss: 0.5991 - accuracy: 0.8512\n",
            "Epoch 68/170\n",
            "1195/1195 [==============================] - 22s 19ms/step - loss: 0.5925 - accuracy: 0.8512\n",
            "Epoch 69/170\n",
            "1195/1195 [==============================] - 22s 18ms/step - loss: 0.5687 - accuracy: 0.8567\n",
            "Epoch 70/170\n",
            "1195/1195 [==============================] - 22s 18ms/step - loss: 0.5644 - accuracy: 0.8574\n",
            "Epoch 71/170\n",
            "1195/1195 [==============================] - 22s 18ms/step - loss: 0.5495 - accuracy: 0.8618\n",
            "Epoch 72/170\n",
            "1195/1195 [==============================] - 22s 19ms/step - loss: 0.5405 - accuracy: 0.8616\n",
            "Epoch 73/170\n",
            "1195/1195 [==============================] - 23s 19ms/step - loss: 0.5389 - accuracy: 0.8633\n",
            "Epoch 74/170\n",
            "1195/1195 [==============================] - 24s 20ms/step - loss: 0.5232 - accuracy: 0.8665\n",
            "Epoch 75/170\n",
            "1195/1195 [==============================] - 23s 19ms/step - loss: 0.5144 - accuracy: 0.8695\n",
            "Epoch 76/170\n",
            "1195/1195 [==============================] - 22s 18ms/step - loss: 0.4945 - accuracy: 0.8733\n",
            "Epoch 77/170\n",
            "1195/1195 [==============================] - 22s 19ms/step - loss: 0.4954 - accuracy: 0.8730\n",
            "Epoch 78/170\n",
            "1195/1195 [==============================] - 22s 18ms/step - loss: 0.4853 - accuracy: 0.8747\n",
            "Epoch 79/170\n",
            "1195/1195 [==============================] - 22s 18ms/step - loss: 0.4743 - accuracy: 0.8764\n",
            "Epoch 80/170\n",
            "1195/1195 [==============================] - 22s 19ms/step - loss: 0.4694 - accuracy: 0.8768\n",
            "Epoch 81/170\n",
            "1195/1195 [==============================] - 22s 19ms/step - loss: 0.4605 - accuracy: 0.8790\n",
            "Epoch 82/170\n",
            "1195/1195 [==============================] - 22s 19ms/step - loss: 0.4495 - accuracy: 0.8826\n",
            "Epoch 83/170\n",
            "1195/1195 [==============================] - 23s 19ms/step - loss: 0.4480 - accuracy: 0.8827\n",
            "Epoch 84/170\n",
            "1195/1195 [==============================] - 23s 19ms/step - loss: 0.4405 - accuracy: 0.8840\n",
            "Epoch 85/170\n",
            "1195/1195 [==============================] - 22s 19ms/step - loss: 0.4302 - accuracy: 0.8886\n",
            "Epoch 86/170\n",
            "1195/1195 [==============================] - 22s 18ms/step - loss: 0.4201 - accuracy: 0.8882\n",
            "Epoch 87/170\n",
            "1195/1195 [==============================] - 22s 18ms/step - loss: 0.4139 - accuracy: 0.8916\n",
            "Epoch 88/170\n",
            "1195/1195 [==============================] - 22s 19ms/step - loss: 0.4129 - accuracy: 0.8904\n",
            "Epoch 89/170\n",
            "1195/1195 [==============================] - 22s 18ms/step - loss: 0.4019 - accuracy: 0.8935\n",
            "Epoch 90/170\n",
            "1195/1195 [==============================] - 22s 18ms/step - loss: 0.3964 - accuracy: 0.8944\n",
            "Epoch 91/170\n",
            "1195/1195 [==============================] - 22s 18ms/step - loss: 0.3893 - accuracy: 0.8973\n",
            "Epoch 92/170\n",
            "1195/1195 [==============================] - 22s 18ms/step - loss: 0.3834 - accuracy: 0.8977\n",
            "Epoch 93/170\n",
            "1195/1195 [==============================] - 22s 18ms/step - loss: 0.3779 - accuracy: 0.8998\n",
            "Epoch 94/170\n",
            "1195/1195 [==============================] - 22s 18ms/step - loss: 0.3701 - accuracy: 0.8998\n",
            "Epoch 95/170\n",
            "1195/1195 [==============================] - 22s 18ms/step - loss: 0.3652 - accuracy: 0.9009\n",
            "Epoch 96/170\n",
            "1195/1195 [==============================] - 22s 18ms/step - loss: 0.3675 - accuracy: 0.9012\n",
            "Epoch 97/170\n",
            "1195/1195 [==============================] - 22s 18ms/step - loss: 0.3567 - accuracy: 0.9032\n",
            "Epoch 98/170\n",
            "1195/1195 [==============================] - 22s 18ms/step - loss: 0.3492 - accuracy: 0.9062\n",
            "Epoch 99/170\n",
            "1195/1195 [==============================] - 22s 19ms/step - loss: 0.3429 - accuracy: 0.9062\n",
            "Epoch 100/170\n",
            "1195/1195 [==============================] - 22s 18ms/step - loss: 0.3400 - accuracy: 0.9081\n",
            "Epoch 101/170\n",
            "1195/1195 [==============================] - 22s 18ms/step - loss: 0.3374 - accuracy: 0.9084\n",
            "Epoch 102/170\n",
            "1195/1195 [==============================] - 22s 18ms/step - loss: 0.3282 - accuracy: 0.9100\n",
            "Epoch 103/170\n",
            "1195/1195 [==============================] - 22s 18ms/step - loss: 0.3240 - accuracy: 0.9110\n",
            "Epoch 104/170\n",
            "1195/1195 [==============================] - 22s 18ms/step - loss: 0.3184 - accuracy: 0.9138\n",
            "Epoch 105/170\n",
            "1195/1195 [==============================] - 22s 19ms/step - loss: 0.3141 - accuracy: 0.9132\n",
            "Epoch 106/170\n",
            "1195/1195 [==============================] - 23s 19ms/step - loss: 0.3120 - accuracy: 0.9140\n",
            "Epoch 107/170\n",
            "1195/1195 [==============================] - 24s 20ms/step - loss: 0.3109 - accuracy: 0.9149\n",
            "Epoch 108/170\n",
            "1195/1195 [==============================] - 23s 19ms/step - loss: 0.2983 - accuracy: 0.9178\n",
            "Epoch 109/170\n",
            "1195/1195 [==============================] - 23s 19ms/step - loss: 0.2991 - accuracy: 0.9162\n",
            "Epoch 110/170\n",
            "1195/1195 [==============================] - 23s 19ms/step - loss: 0.2920 - accuracy: 0.9194\n",
            "Epoch 111/170\n",
            "1195/1195 [==============================] - 23s 19ms/step - loss: 0.2944 - accuracy: 0.9195\n",
            "Epoch 112/170\n",
            "1195/1195 [==============================] - 23s 19ms/step - loss: 0.2910 - accuracy: 0.9196\n",
            "Epoch 113/170\n",
            "1195/1195 [==============================] - 23s 19ms/step - loss: 0.2830 - accuracy: 0.9223\n",
            "Epoch 114/170\n",
            "1195/1195 [==============================] - 23s 19ms/step - loss: 0.2793 - accuracy: 0.9222\n",
            "Epoch 115/170\n",
            "1195/1195 [==============================] - 23s 19ms/step - loss: 0.2805 - accuracy: 0.9224\n",
            "Epoch 116/170\n",
            "1195/1195 [==============================] - 22s 19ms/step - loss: 0.2773 - accuracy: 0.9225\n",
            "Epoch 117/170\n",
            "1195/1195 [==============================] - 22s 19ms/step - loss: 0.2712 - accuracy: 0.9239\n",
            "Epoch 118/170\n",
            "1195/1195 [==============================] - 22s 18ms/step - loss: 0.2667 - accuracy: 0.9246\n",
            "Epoch 119/170\n",
            "1195/1195 [==============================] - 22s 19ms/step - loss: 0.2594 - accuracy: 0.9278\n",
            "Epoch 120/170\n",
            "1195/1195 [==============================] - 23s 19ms/step - loss: 0.2657 - accuracy: 0.9260\n",
            "Epoch 121/170\n",
            "1195/1195 [==============================] - 24s 20ms/step - loss: 0.2601 - accuracy: 0.9274\n",
            "Epoch 122/170\n",
            "1195/1195 [==============================] - 24s 20ms/step - loss: 0.2565 - accuracy: 0.9290\n",
            "Epoch 123/170\n",
            "1195/1195 [==============================] - 23s 19ms/step - loss: 0.2489 - accuracy: 0.9306\n",
            "Epoch 124/170\n",
            "1195/1195 [==============================] - 23s 19ms/step - loss: 0.2496 - accuracy: 0.9300\n",
            "Epoch 125/170\n",
            "1195/1195 [==============================] - 23s 20ms/step - loss: 0.2481 - accuracy: 0.9299\n",
            "Epoch 126/170\n",
            "1195/1195 [==============================] - 23s 19ms/step - loss: 0.2427 - accuracy: 0.9313\n",
            "Epoch 127/170\n",
            "1195/1195 [==============================] - 23s 19ms/step - loss: 0.2446 - accuracy: 0.9298\n",
            "Epoch 128/170\n",
            "1195/1195 [==============================] - 23s 19ms/step - loss: 0.2368 - accuracy: 0.9333\n",
            "Epoch 129/170\n",
            "1195/1195 [==============================] - 23s 19ms/step - loss: 0.2352 - accuracy: 0.9335\n",
            "Epoch 130/170\n",
            "1195/1195 [==============================] - 23s 19ms/step - loss: 0.2377 - accuracy: 0.9329\n",
            "Epoch 131/170\n",
            "1195/1195 [==============================] - 23s 19ms/step - loss: 0.2350 - accuracy: 0.9335\n",
            "Epoch 132/170\n",
            "1195/1195 [==============================] - 23s 20ms/step - loss: 0.2329 - accuracy: 0.9335\n",
            "Epoch 133/170\n",
            "1195/1195 [==============================] - 23s 19ms/step - loss: 0.2267 - accuracy: 0.9360\n",
            "Epoch 134/170\n",
            "1195/1195 [==============================] - 23s 19ms/step - loss: 0.2191 - accuracy: 0.9387\n",
            "Epoch 135/170\n",
            "1195/1195 [==============================] - 23s 19ms/step - loss: 0.2271 - accuracy: 0.9355\n",
            "Epoch 136/170\n",
            "1195/1195 [==============================] - 23s 19ms/step - loss: 0.2215 - accuracy: 0.9363\n",
            "Epoch 137/170\n",
            "1195/1195 [==============================] - 24s 20ms/step - loss: 0.2256 - accuracy: 0.9360\n",
            "Epoch 138/170\n",
            "1195/1195 [==============================] - 23s 19ms/step - loss: 0.2222 - accuracy: 0.9380\n",
            "Epoch 139/170\n",
            "1195/1195 [==============================] - 23s 20ms/step - loss: 0.2110 - accuracy: 0.9409\n",
            "Epoch 140/170\n",
            "1195/1195 [==============================] - 23s 19ms/step - loss: 0.2220 - accuracy: 0.9366\n",
            "Epoch 141/170\n",
            "1195/1195 [==============================] - 23s 19ms/step - loss: 0.2131 - accuracy: 0.9403\n",
            "Epoch 142/170\n",
            "1195/1195 [==============================] - 23s 19ms/step - loss: 0.2138 - accuracy: 0.9393\n",
            "Epoch 143/170\n",
            "1195/1195 [==============================] - 22s 19ms/step - loss: 0.2111 - accuracy: 0.9402\n",
            "Epoch 144/170\n",
            "1195/1195 [==============================] - 22s 19ms/step - loss: 0.2104 - accuracy: 0.9416\n",
            "Epoch 145/170\n",
            "1195/1195 [==============================] - 23s 19ms/step - loss: 0.2075 - accuracy: 0.9415\n",
            "Epoch 146/170\n",
            "1195/1195 [==============================] - 23s 19ms/step - loss: 0.2067 - accuracy: 0.9407\n",
            "Epoch 147/170\n",
            "1195/1195 [==============================] - 23s 19ms/step - loss: 0.2077 - accuracy: 0.9404\n",
            "Epoch 148/170\n",
            "1195/1195 [==============================] - 23s 19ms/step - loss: 0.2045 - accuracy: 0.9412\n",
            "Epoch 149/170\n",
            "1195/1195 [==============================] - 23s 19ms/step - loss: 0.1985 - accuracy: 0.9442\n",
            "Epoch 150/170\n",
            "1195/1195 [==============================] - 23s 19ms/step - loss: 0.1948 - accuracy: 0.9455\n",
            "Epoch 151/170\n",
            "1195/1195 [==============================] - 23s 19ms/step - loss: 0.1999 - accuracy: 0.9440\n",
            "Epoch 152/170\n",
            "1195/1195 [==============================] - 23s 19ms/step - loss: 0.2004 - accuracy: 0.9427\n",
            "Epoch 153/170\n",
            "1195/1195 [==============================] - 23s 19ms/step - loss: 0.1945 - accuracy: 0.9438\n",
            "Epoch 154/170\n",
            "1195/1195 [==============================] - 23s 19ms/step - loss: 0.1893 - accuracy: 0.9460\n",
            "Epoch 155/170\n",
            "1195/1195 [==============================] - 23s 19ms/step - loss: 0.1971 - accuracy: 0.9440\n",
            "Epoch 156/170\n",
            "1195/1195 [==============================] - 23s 19ms/step - loss: 0.1860 - accuracy: 0.9483\n",
            "Epoch 157/170\n",
            "1195/1195 [==============================] - 23s 19ms/step - loss: 0.1908 - accuracy: 0.9471\n",
            "Epoch 158/170\n",
            "1195/1195 [==============================] - 23s 19ms/step - loss: 0.1884 - accuracy: 0.9466\n",
            "Epoch 159/170\n",
            "1195/1195 [==============================] - 22s 19ms/step - loss: 0.1798 - accuracy: 0.9488\n",
            "Epoch 160/170\n",
            "1195/1195 [==============================] - 23s 19ms/step - loss: 0.1955 - accuracy: 0.9451\n",
            "Epoch 161/170\n",
            "1195/1195 [==============================] - 23s 19ms/step - loss: 0.1890 - accuracy: 0.9464\n",
            "Epoch 162/170\n",
            "1195/1195 [==============================] - 22s 19ms/step - loss: 0.1797 - accuracy: 0.9503\n",
            "Epoch 163/170\n",
            "1195/1195 [==============================] - 23s 19ms/step - loss: 0.1825 - accuracy: 0.9493\n",
            "Epoch 164/170\n",
            "1195/1195 [==============================] - 23s 19ms/step - loss: 0.1792 - accuracy: 0.9496\n",
            "Epoch 165/170\n",
            "1195/1195 [==============================] - 23s 19ms/step - loss: 0.1824 - accuracy: 0.9489\n",
            "Epoch 166/170\n",
            "1195/1195 [==============================] - 23s 19ms/step - loss: 0.1812 - accuracy: 0.9487\n",
            "Epoch 167/170\n",
            "1195/1195 [==============================] - 23s 19ms/step - loss: 0.1811 - accuracy: 0.9482\n",
            "Epoch 168/170\n",
            "1195/1195 [==============================] - 22s 19ms/step - loss: 0.1711 - accuracy: 0.9517\n",
            "Epoch 169/170\n",
            "1195/1195 [==============================] - 23s 19ms/step - loss: 0.1791 - accuracy: 0.9500\n",
            "Epoch 170/170\n",
            "1195/1195 [==============================] - 23s 19ms/step - loss: 0.1782 - accuracy: 0.9506\n"
          ],
          "name": "stdout"
        }
      ]
    },
    {
      "cell_type": "markdown",
      "metadata": {
        "id": "uXUqsYYn_k0u"
      },
      "source": [
        "## Accuracy and Loss"
      ]
    },
    {
      "cell_type": "code",
      "metadata": {
        "colab": {
          "base_uri": "https://localhost:8080/"
        },
        "id": "Q6iP8FFw0TBX",
        "outputId": "be03023f-9868-4a55-bf53-05e3f26b8af1"
      },
      "source": [
        "import math   \n",
        "print(f'The traning accuracy of model is {math.floor(r.history[\"accuracy\"][-1] * 100)} %')\n",
        "print(f'The traning loss of model is {r.history[\"loss\"][-1]:.3f}')"
      ],
      "execution_count": 31,
      "outputs": [
        {
          "output_type": "stream",
          "text": [
            "The traning accuracy of model is 94 %\n",
            "The traning loss of model is 0.204\n"
          ],
          "name": "stdout"
        }
      ]
    },
    {
      "cell_type": "code",
      "metadata": {
        "id": "an2sh41W0jMU"
      },
      "source": [
        "plt.rcParams['figure.figsize'] = [22,6]\n",
        "plt.rcParams['figure.dpi'] = 75"
      ],
      "execution_count": 44,
      "outputs": []
    },
    {
      "cell_type": "markdown",
      "metadata": {
        "id": "-pekhrib_phG"
      },
      "source": [
        "## Visualizing The Accuracy"
      ]
    },
    {
      "cell_type": "code",
      "metadata": {
        "id": "UgEHYgjLvrxN",
        "colab": {
          "base_uri": "https://localhost:8080/",
          "height": 425
        },
        "outputId": "44d463a5-e1f7-4c5d-991e-7e35f429bfd1"
      },
      "source": [
        "plt.title('Accuracy')\n",
        "plt.plot(r.history['accuracy'], \".:\", label='accuracy', linewidth=1.5, color=\"blue\")\n",
        "plt.ylabel('accuracy')\n",
        "plt.xlabel('epoch')\n",
        "plt.legend()\n",
        "plt.show()"
      ],
      "execution_count": 45,
      "outputs": [
        {
          "output_type": "display_data",
          "data": {
            "image/png": "[encoded data removed]",
            "text/plain": [
              "<Figure size 1650x450 with 1 Axes>"
            ]
          },
          "metadata": {
            "tags": []
          }
        }
      ]
    },
    {
      "cell_type": "markdown",
      "metadata": {
        "id": "O6kXk-a7_wJk"
      },
      "source": [
        "## Visualizing The Loss"
      ]
    },
    {
      "cell_type": "code",
      "metadata": {
        "id": "tfFfRyYw0kg3",
        "colab": {
          "base_uri": "https://localhost:8080/",
          "height": 425
        },
        "outputId": "404f36bb-3bc8-4398-b37b-f640f4f2e1bb"
      },
      "source": [
        "plt.title('Loss')\n",
        "plt.plot(r.history['loss'], \".:\", label='acc', linewidth=1.5, color=\"red\")\n",
        "plt.ylabel('loss')\n",
        "plt.xlabel('epoch')\n",
        "plt.legend()\n",
        "plt.show()"
      ],
      "execution_count": 46,
      "outputs": [
        {
          "output_type": "display_data",
          "data": {
            "image/png": "[encoded data removed]",
            "text/plain": [
              "<Figure size 1650x450 with 1 Axes>"
            ]
          },
          "metadata": {
            "tags": []
          }
        }
      ]
    },
    {
      "cell_type": "markdown",
      "metadata": {
        "id": "Gm_v9Fs1_26c"
      },
      "source": [
        "## Generating The Poems\n",
        "\n",
        "\n"
      ]
    },
    {
      "cell_type": "code",
      "metadata": {
        "id": "uH56qNBiVN4z"
      },
      "source": [
        "poetry_length = 10\n",
        "\n",
        "def generate_poetry(seed_text, n_lines):\n",
        "\n",
        "  for i in range(n_lines):\n",
        "    text = []\n",
        "    for _ in range(poetry_length):\n",
        "      encoded = token.texts_to_sequences([seed_text])\n",
        "      encoded = pad_sequences(encoded, maxlen=seq_length, padding='pre')\n",
        "\n",
        "      y_pred = np.argmax(model.predict(encoded), axis=-1)\n",
        "\n",
        "      predicted_word = \"\"\n",
        "      for word, index in token.word_index.items():\n",
        "        if index == y_pred:\n",
        "          predicted_word = word\n",
        "          break\n",
        "\n",
        "      seed_text = seed_text + ' ' + predicted_word\n",
        "      text.append(predicted_word)\n",
        "\n",
        "    seed_text = text[-1]\n",
        "    text = ' '.join(text)\n",
        "    print(text)"
      ],
      "execution_count": 47,
      "outputs": []
    },
    {
      "cell_type": "markdown",
      "metadata": {
        "id": "RuLb4S95AAFx"
      },
      "source": [
        "## Result !!!"
      ]
    },
    {
      "cell_type": "code",
      "metadata": {
        "colab": {
          "base_uri": "https://localhost:8080/"
        },
        "id": "CtuZkDNI8TXC",
        "outputId": "03a52c98-416a-4b4b-9ece-ba2652b68a5f"
      },
      "source": [
        "seed_text = 'Love'\n",
        "print(f'Title: {seed_text}')\n",
        "generate_poetry(seed_text, 6)"
      ],
      "execution_count": 49,
      "outputs": [
        {
          "output_type": "stream",
          "text": [
            "Title: Love\n",
            "of us bear that have so near his message is\n",
            "anything central orchards flung out on the land urban forests\n",
            "or whose hollows was mean visited up there still sister\n",
            "and you are both let me be no one and\n",
            "yesterday something shattering happened not yesterday but several that is\n",
            "anything central orchards flung out on the land urban forests\n"
          ],
          "name": "stdout"
        }
      ]
    },
    {
      "cell_type": "code",
      "metadata": {
        "colab": {
          "base_uri": "https://localhost:8080/"
        },
        "id": "tvXcVxylvV4a",
        "outputId": "0f0ebf8b-de56-4d64-d2e5-7d4338f9e431"
      },
      "source": [
        "seed_text = 'Friendship'\n",
        "print(f'Title: {seed_text}')\n",
        "generate_poetry(seed_text, 5)"
      ],
      "execution_count": 50,
      "outputs": [
        {
          "output_type": "stream",
          "text": [
            "Title: Friendship\n",
            "an worry as we send instead of my purpose an\n",
            "irish trunk tshirts when my hand back i found my\n",
            "cousin milton worked for a cable company the boy i\n",
            "have become the person who says darling who says sugarpie\n",
            "metaphor maybe nothing to do but brush back the tears\n"
          ],
          "name": "stdout"
        }
      ]
    },
    {
      "cell_type": "code",
      "metadata": {
        "colab": {
          "base_uri": "https://localhost:8080/"
        },
        "id": "4LmTIS1bvQ5e",
        "outputId": "d1b381f4-036f-4933-e4fe-24890accf701"
      },
      "source": [
        "seed_text = 'Sadness'\n",
        "print(f'Title: {seed_text}')\n",
        "generate_poetry(seed_text, 5)"
      ],
      "execution_count": 51,
      "outputs": [
        {
          "output_type": "stream",
          "text": [
            "Title: Sadness\n",
            "i believe for love my own name love and warn\n",
            "of time and even whatever i know an grant you\n",
            "are running away from everyone who loves you from your\n",
            "husband is stretched out on the ground as if he\n",
            "brings me chocolate from the pentagon dark chocolates shaped like\n"
          ],
          "name": "stdout"
        }
      ]
    },
    {
      "cell_type": "code",
      "metadata": {
        "id": "1FfQ6Euq73Jg",
        "colab": {
          "base_uri": "https://localhost:8080/"
        },
        "outputId": "05002091-9b34-4eac-c332-01abfe896edd"
      },
      "source": [
        "seed_text = 'Life'\n",
        "print(f'Title: {seed_text}')\n",
        "generate_poetry(seed_text, 5)"
      ],
      "execution_count": 52,
      "outputs": [
        {
          "output_type": "stream",
          "text": [
            "Title: Life\n",
            "passes through places pj duffy landscapes of south ulster patrick\n",
            "amount soul lady certainly for night give well historical the\n",
            "cat has the chance to make the sunlight beautiful to\n",
            "imagine the next weeping of the next ear you see\n",
            "everything looped spiraled circular thought but the labyrinths not a\n"
          ],
          "name": "stdout"
        }
      ]
    },
    {
      "cell_type": "code",
      "metadata": {
        "colab": {
          "base_uri": "https://localhost:8080/"
        },
        "id": "7iKiTDBpvaUb",
        "outputId": "544e9488-b9f7-43da-ed2e-8b307be66cb9"
      },
      "source": [
        "seed_text = 'Darkness'\n",
        "print(f'Title: {seed_text}')\n",
        "generate_poetry(seed_text, 5)"
      ],
      "execution_count": 53,
      "outputs": [
        {
          "output_type": "stream",
          "text": [
            "Title: Darkness\n",
            "i learned that the scramble starts to be bucket at\n",
            "the unemployment office i know it can be a two\n",
            "sets of family stories one long and detailed about many\n",
            "nights after march like the wind every day of the\n",
            "cat has the chance to make the sunlight beautiful to\n"
          ],
          "name": "stdout"
        }
      ]
    },
    {
      "cell_type": "code",
      "metadata": {
        "colab": {
          "base_uri": "https://localhost:8080/"
        },
        "id": "1sCzCTSmvHGv",
        "outputId": "71eda84a-b470-4163-f311-c5107b047827"
      },
      "source": [
        "seed_text = 'Girl'\n",
        "print(f'Title: {seed_text}')\n",
        "generate_poetry(seed_text, 5)"
      ],
      "execution_count": 54,
      "outputs": [
        {
          "output_type": "stream",
          "text": [
            "Title: Girl\n",
            "like life is a huge tit not water to begin\n",
            "to be less too or again their teach me do\n",
            "not bother the earth spirit who lives here she is\n",
            "anything central orchards flung out on the land urban forests\n",
            "or whose hollows was mean visited up there still sister\n"
          ],
          "name": "stdout"
        }
      ]
    },
    {
      "cell_type": "code",
      "metadata": {
        "colab": {
          "base_uri": "https://localhost:8080/"
        },
        "id": "VODrgPGJvNXE",
        "outputId": "9079cce4-fb94-4fb8-970f-3bf5e700038b"
      },
      "source": [
        "seed_text = 'Beauty'\n",
        "print(f'Title: {seed_text}')\n",
        "generate_poetry(seed_text, 5)"
      ],
      "execution_count": 55,
      "outputs": [
        {
          "output_type": "stream",
          "text": [
            "Title: Beauty\n",
            "i placed a page of a week in opening the\n",
            "cat has the chance to make the sunlight beautiful to\n",
            "imagine the next weeping of the next ear you see\n",
            "everything looped spiraled circular thought but the labyrinths not a\n",
            "bullet is broken wide with a milk it you lay\n"
          ],
          "name": "stdout"
        }
      ]
    },
    {
      "cell_type": "code",
      "metadata": {
        "colab": {
          "base_uri": "https://localhost:8080/"
        },
        "id": "uJ4ghNdMwXGM",
        "outputId": "67856a3d-feff-4d9f-9ec0-a6c0181d436a"
      },
      "source": [
        "seed_text = 'Kiss'\n",
        "print(f'Title: {seed_text}')\n",
        "generate_poetry(seed_text, 5)"
      ],
      "execution_count": 56,
      "outputs": [
        {
          "output_type": "stream",
          "text": [
            "Title: Kiss\n",
            "me having ashes use in the hair we threw twice\n",
            "that night we darling for you are saying that are\n",
            "real they jump from rooftop to rooftop do a backward\n",
            "back desperate enough to walk up to the car and\n",
            "yesterday something shattering happened not yesterday but several that is\n"
          ],
          "name": "stdout"
        }
      ]
    },
    {
      "cell_type": "markdown",
      "metadata": {
        "id": "tsP7mxVNAF4m"
      },
      "source": [
        "## Saving The Model"
      ]
    },
    {
      "cell_type": "code",
      "metadata": {
        "id": "ywV3cR1C0pd5"
      },
      "source": [
        "model.save('Poem_Writing_AI.h5')"
      ],
      "execution_count": 58,
      "outputs": []
    }
  ]
}